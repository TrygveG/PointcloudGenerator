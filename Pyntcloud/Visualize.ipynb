{
 "cells": [
  {
   "cell_type": "markdown",
   "metadata": {
    "nbpresent": {
     "id": "67233f89-433b-40e7-b57b-6414846ed42e"
    }
   },
   "source": [
    "# Pyntcloud Visualizer"
   ]
  },
  {
   "cell_type": "markdown",
   "metadata": {
    "nbpresent": {
     "id": "7ebdaf1e-35d7-4972-bab7-1ec4141f5e7a"
    }
   },
   "source": [
    "The following notebook is an example of using [pyntcloud](https://github.com/daavoo/pyntcloud)."
   ]
  },
  {
   "cell_type": "markdown",
   "metadata": {
    "nbpresent": {
     "id": "e9b2331e-1b42-4f10-acd3-4da230996080"
    }
   },
   "source": [
    "Most of pyntcloud's functionallity can be accesed through the core class: [PyntCloud](http://pyntcloud.readthedocs.io/en/latest/PyntCloud.html)."
   ]
  },
  {
   "cell_type": "code",
   "execution_count": 1,
   "metadata": {
    "nbpresent": {
     "id": "8e958d1d-f5e8-43a5-bee8-dcc072e05b14"
    }
   },
   "outputs": [
    {
     "ename": "ModuleNotFoundError",
     "evalue": "No module named 'pyntcloud'",
     "output_type": "error",
     "traceback": [
      "\u001b[0;31m---------------------------------------------------------------------------\u001b[0m",
      "\u001b[0;31mModuleNotFoundError\u001b[0m                       Traceback (most recent call last)",
      "\u001b[0;32m<ipython-input-1-fb183a0faae5>\u001b[0m in \u001b[0;36m<module>\u001b[0;34m()\u001b[0m\n\u001b[0;32m----> 1\u001b[0;31m \u001b[0;32mfrom\u001b[0m \u001b[0mpyntcloud\u001b[0m \u001b[0;32mimport\u001b[0m \u001b[0mPyntCloud\u001b[0m\u001b[0;34m\u001b[0m\u001b[0m\n\u001b[0m",
      "\u001b[0;31mModuleNotFoundError\u001b[0m: No module named 'pyntcloud'"
     ]
    }
   ],
   "source": [
    "from pyntcloud import PyntCloud"
   ]
  },
  {
   "cell_type": "markdown",
   "metadata": {
    "nbpresent": {
     "id": "41157e9c-0858-4412-b217-e5d1abd81ffe"
    }
   },
   "source": [
    "And this is the only import we need for now."
   ]
  },
  {
   "cell_type": "markdown",
   "metadata": {
    "nbpresent": {
     "id": "2c0b1f13-412b-4bed-82c0-fdee4b384563"
    }
   },
   "source": [
    "## Loading 3D data"
   ]
  },
  {
   "cell_type": "markdown",
   "metadata": {
    "nbpresent": {
     "id": "973cbb65-ed3d-401f-b03e-8141c0414a91"
    }
   },
   "source": [
    "The first thing we are going to do is load the 3D data into Python, using PyntCloud's class method: [from_file](http://pyntcloud.readthedocs.io/en/latest/io.html)"
   ]
  },
  {
   "cell_type": "code",
   "execution_count": 2,
   "metadata": {
    "collapsed": true,
    "nbpresent": {
     "id": "080faee4-f285-4b64-9870-79d0d72229ec"
    }
   },
   "outputs": [],
   "source": [
    "scene = PyntCloud.from_file(\"scene3.ply\")\n",
    "scene2 = PyntCloud.from_file(\"scene3.ply\") #Two were used to save the floor in one separate file"
   ]
  },
  {
   "cell_type": "code",
   "execution_count": 3,
   "metadata": {
    "nbpresent": {
     "id": "aea457dd-0a56-45c0-887c-e13dead4b87e"
    },
    "scrolled": true
   },
   "outputs": [
    {
     "data": {
      "text/plain": [
       "PyntCloud\n",
       "338199 points with 0 scalar fields\n",
       "671203 faces in mesh\n",
       "0 kdtrees\n",
       "0 voxelgrids\n",
       "Centroid: -1276.465576171875, 2136.514404296875, 1098.029296875\n",
       "Other attributes:"
      ]
     },
     "execution_count": 3,
     "metadata": {},
     "output_type": "execute_result"
    }
   ],
   "source": [
    "scene # Factory"
   ]
  },
  {
   "cell_type": "code",
   "execution_count": 4,
   "metadata": {
    "collapsed": true
   },
   "outputs": [],
   "source": [
    "a = (scene.mesh)\n",
    "scene.points = scene.points/200 #Hardcoded scalining because of the distance between points in CAD\n",
    "scene.mesh = a\n",
    "a = (scene2.mesh)\n",
    "scene2.points = scene2.points/200\n",
    "scene2.mesh = a"
   ]
  },
  {
   "cell_type": "code",
   "execution_count": 5,
   "metadata": {
    "nbpresent": {
     "id": "f06017c0-4f44-4444-9b80-02a2b95b5132"
    },
    "scrolled": true
   },
   "outputs": [
    {
     "data": {
      "text/html": [
       "<div>\n",
       "<style>\n",
       "    .dataframe thead tr:only-child th {\n",
       "        text-align: right;\n",
       "    }\n",
       "\n",
       "    .dataframe thead th {\n",
       "        text-align: left;\n",
       "    }\n",
       "\n",
       "    .dataframe tbody tr th {\n",
       "        vertical-align: top;\n",
       "    }\n",
       "</style>\n",
       "<table border=\"1\" class=\"dataframe\">\n",
       "  <thead>\n",
       "    <tr style=\"text-align: right;\">\n",
       "      <th></th>\n",
       "      <th>x</th>\n",
       "      <th>y</th>\n",
       "      <th>z</th>\n",
       "    </tr>\n",
       "  </thead>\n",
       "  <tbody>\n",
       "    <tr>\n",
       "      <th>0</th>\n",
       "      <td>-9.179413</td>\n",
       "      <td>17.206535</td>\n",
       "      <td>0.0</td>\n",
       "    </tr>\n",
       "    <tr>\n",
       "      <th>1</th>\n",
       "      <td>-13.949665</td>\n",
       "      <td>5.280414</td>\n",
       "      <td>0.0</td>\n",
       "    </tr>\n",
       "    <tr>\n",
       "      <th>2</th>\n",
       "      <td>-9.174702</td>\n",
       "      <td>17.191383</td>\n",
       "      <td>0.0</td>\n",
       "    </tr>\n",
       "    <tr>\n",
       "      <th>3</th>\n",
       "      <td>-18.699665</td>\n",
       "      <td>24.847401</td>\n",
       "      <td>0.0</td>\n",
       "    </tr>\n",
       "    <tr>\n",
       "      <th>4</th>\n",
       "      <td>-8.707599</td>\n",
       "      <td>17.847338</td>\n",
       "      <td>0.0</td>\n",
       "    </tr>\n",
       "  </tbody>\n",
       "</table>\n",
       "</div>"
      ],
      "text/plain": [
       "           x          y    z\n",
       "0  -9.179413  17.206535  0.0\n",
       "1 -13.949665   5.280414  0.0\n",
       "2  -9.174702  17.191383  0.0\n",
       "3 -18.699665  24.847401  0.0\n",
       "4  -8.707599  17.847338  0.0"
      ]
     },
     "execution_count": 5,
     "metadata": {},
     "output_type": "execute_result"
    }
   ],
   "source": [
    "scene.points.head()"
   ]
  },
  {
   "cell_type": "markdown",
   "metadata": {
    "nbpresent": {
     "id": "0f6844a0-b6af-43c7-8fdf-b9658b3c2609"
    }
   },
   "source": [
    "## 3D point cloud from 3D mesh"
   ]
  },
  {
   "cell_type": "markdown",
   "metadata": {
    "nbpresent": {
     "id": "f54864de-9dc7-4cb1-8ab0-aa7372fd6e3e"
    }
   },
   "source": [
    "Luckely for us, we can convert a triangular mesh into a point cloud:"
   ]
  },
  {
   "cell_type": "code",
   "execution_count": 6,
   "metadata": {
    "collapsed": true,
    "nbpresent": {
     "id": "f9a1b82f-0a0b-423e-bbf3-e7e9d76bc2ef"
    }
   },
   "outputs": [],
   "source": [
    "# sample 500000 points from the mesh\n",
    "sampled_points = scene.get_sample(\"mesh_random_sampling\",\n",
    "                                  n=500000)\n",
    "sampled_points2 = scene2.get_sample(\"mesh_random_sampling\",\n",
    "                                  n=500000)\n",
    "\n",
    "# manually construcst a new PyntCloud with those points\n",
    "scene = PyntCloud(sampled_points)\n",
    "scene2 = PyntCloud(sampled_points2)"
   ]
  },
  {
   "cell_type": "markdown",
   "metadata": {
    "nbpresent": {
     "id": "f6fc2dc8-e686-414b-a8ec-4ade6b8955bf"
    }
   },
   "source": [
    "We can verify the result using the `__repr__` method mentioned above (this time using the `print` function) ..."
   ]
  },
  {
   "cell_type": "code",
   "execution_count": 7,
   "metadata": {
    "nbpresent": {
     "id": "638bf21a-cecb-4ef8-83e3-9b72cd6a27f2"
    },
    "scrolled": false
   },
   "outputs": [
    {
     "name": "stdout",
     "output_type": "stream",
     "text": [
      "PyntCloud\n",
      "500000 points with 0 scalar fields\n",
      "0 faces in mesh\n",
      "0 kdtrees\n",
      "0 voxelgrids\n",
      "Centroid: -4.274939060211182, 13.179546356201172, 1.7366610765457153\n",
      "Other attributes:\n",
      "\n"
     ]
    }
   ],
   "source": [
    "print(scene)"
   ]
  },
  {
   "cell_type": "code",
   "execution_count": 8,
   "metadata": {
    "scrolled": true
   },
   "outputs": [
    {
     "data": {
      "text/html": [
       "\n",
       "        <iframe\n",
       "            width=\"800\"\n",
       "            height=\"500\"\n",
       "            src=\"pyntcloud_plot.html\"\n",
       "            frameborder=\"0\"\n",
       "            allowfullscreen\n",
       "        ></iframe>\n",
       "        "
      ],
      "text/plain": [
       "<IPython.lib.display.IFrame at 0x7f8a85212e48>"
      ]
     },
     "execution_count": 8,
     "metadata": {},
     "output_type": "execute_result"
    }
   ],
   "source": [
    "scene.plot()"
   ]
  },
  {
   "cell_type": "markdown",
   "metadata": {
    "nbpresent": {
     "id": "0cbe2565-3cd5-4c8a-a205-55497b2043e2"
    }
   },
   "source": [
    "## Floor segmentation"
   ]
  },
  {
   "cell_type": "markdown",
   "metadata": {
    "nbpresent": {
     "id": "8a43c8e7-90d3-4c4c-9fb4-22c2e19cfd95"
    }
   },
   "source": [
    "We are not interested in the points that compose the floor, so we will use [RANSAC](https://es.wikipedia.org/wiki/RANSAC) to find the plane that contains those points."
   ]
  },
  {
   "cell_type": "markdown",
   "metadata": {
    "nbpresent": {
     "id": "b166c4c1-dc8e-4b33-960a-f3eaccfcfd7e"
    }
   },
   "source": [
    "This is a good example of using the function [add_scalar_field](http://pyntcloud.readthedocs.io/en/latest/scalar_fields.html), wich will add a new column to `points` and return a `string` with the name of that column."
   ]
  },
  {
   "cell_type": "markdown",
   "metadata": {
    "nbpresent": {
     "id": "59db8dcc-ede9-469b-9b6e-ef3d1a77c6d8"
    }
   },
   "source": [
    "It's a good practice to store the strings returned `from PyntCloud.`**add_**`*` methods. As you will see later, this it quite convenient when chaining operations that require those strings as arguments."
   ]
  },
  {
   "cell_type": "code",
   "execution_count": 10,
   "metadata": {
    "collapsed": true,
    "nbpresent": {
     "id": "0ac2ea08-bbc3-4e87-b67e-99ce27860c8a"
    },
    "scrolled": true
   },
   "outputs": [],
   "source": [
    "is_floor = scene.add_scalar_field(\"plane_fit\",\n",
    "                                  n_inliers_to_stop=len(scene.points)/30)\n",
    "is_floor2 = scene2.add_scalar_field(\"plane_fit\",\n",
    "                                  n_inliers_to_stop=len(scene2.points)/30)"
   ]
  },
  {
   "cell_type": "markdown",
   "metadata": {
    "nbpresent": {
     "id": "a4bbd290-fb8a-4e6b-98f8-52809d897ac6"
    }
   },
   "source": [
    "This method adds a new column to points."
   ]
  },
  {
   "cell_type": "code",
   "execution_count": 11,
   "metadata": {
    "nbpresent": {
     "id": "7ca44613-39ac-410a-90dc-405d9af635db"
    },
    "scrolled": true
   },
   "outputs": [
    {
     "data": {
      "text/html": [
       "<div>\n",
       "<style>\n",
       "    .dataframe thead tr:only-child th {\n",
       "        text-align: right;\n",
       "    }\n",
       "\n",
       "    .dataframe thead th {\n",
       "        text-align: left;\n",
       "    }\n",
       "\n",
       "    .dataframe tbody tr th {\n",
       "        vertical-align: top;\n",
       "    }\n",
       "</style>\n",
       "<table border=\"1\" class=\"dataframe\">\n",
       "  <thead>\n",
       "    <tr style=\"text-align: right;\">\n",
       "      <th></th>\n",
       "      <th>x</th>\n",
       "      <th>y</th>\n",
       "      <th>z</th>\n",
       "      <th>is_plane</th>\n",
       "    </tr>\n",
       "  </thead>\n",
       "  <tbody>\n",
       "    <tr>\n",
       "      <th>0</th>\n",
       "      <td>-10.167369</td>\n",
       "      <td>12.329792</td>\n",
       "      <td>0.000000</td>\n",
       "      <td>1</td>\n",
       "    </tr>\n",
       "    <tr>\n",
       "      <th>1</th>\n",
       "      <td>5.821401</td>\n",
       "      <td>24.013952</td>\n",
       "      <td>0.000000</td>\n",
       "      <td>1</td>\n",
       "    </tr>\n",
       "    <tr>\n",
       "      <th>2</th>\n",
       "      <td>3.648916</td>\n",
       "      <td>13.028890</td>\n",
       "      <td>3.302000</td>\n",
       "      <td>0</td>\n",
       "    </tr>\n",
       "    <tr>\n",
       "      <th>3</th>\n",
       "      <td>-11.993650</td>\n",
       "      <td>7.762948</td>\n",
       "      <td>0.000000</td>\n",
       "      <td>1</td>\n",
       "    </tr>\n",
       "    <tr>\n",
       "      <th>4</th>\n",
       "      <td>3.165603</td>\n",
       "      <td>21.072624</td>\n",
       "      <td>5.468216</td>\n",
       "      <td>0</td>\n",
       "    </tr>\n",
       "  </tbody>\n",
       "</table>\n",
       "</div>"
      ],
      "text/plain": [
       "           x          y         z  is_plane\n",
       "0 -10.167369  12.329792  0.000000         1\n",
       "1   5.821401  24.013952  0.000000         1\n",
       "2   3.648916  13.028890  3.302000         0\n",
       "3 -11.993650   7.762948  0.000000         1\n",
       "4   3.165603  21.072624  5.468216         0"
      ]
     },
     "execution_count": 11,
     "metadata": {},
     "output_type": "execute_result"
    }
   ],
   "source": [
    "scene.points.head()"
   ]
  },
  {
   "cell_type": "code",
   "execution_count": 12,
   "metadata": {
    "collapsed": true,
    "nbpresent": {
     "id": "45a4ef1c-badd-40a6-9def-e4f9f68145be"
    }
   },
   "outputs": [],
   "source": [
    "# creates a boolean array\n",
    "not_floor = scene.points[is_floor] != 1 \n",
    "floor = scene2.points[is_floor] == 1 "
   ]
  },
  {
   "cell_type": "code",
   "execution_count": 13,
   "metadata": {
    "collapsed": true,
    "nbpresent": {
     "id": "64fb691d-f48c-407d-ab20-145200f45b6b"
    }
   },
   "outputs": [],
   "source": [
    "scene.apply_filter(not_floor)\n",
    "scene2.apply_filter(floor)"
   ]
  },
  {
   "cell_type": "code",
   "execution_count": 14,
   "metadata": {
    "nbpresent": {
     "id": "3cbcb389-5516-4a44-9966-7d32fa34dd1a"
    }
   },
   "outputs": [
    {
     "data": {
      "text/html": [
       "<div>\n",
       "<style>\n",
       "    .dataframe thead tr:only-child th {\n",
       "        text-align: right;\n",
       "    }\n",
       "\n",
       "    .dataframe thead th {\n",
       "        text-align: left;\n",
       "    }\n",
       "\n",
       "    .dataframe tbody tr th {\n",
       "        vertical-align: top;\n",
       "    }\n",
       "</style>\n",
       "<table border=\"1\" class=\"dataframe\">\n",
       "  <thead>\n",
       "    <tr style=\"text-align: right;\">\n",
       "      <th></th>\n",
       "      <th>x</th>\n",
       "      <th>y</th>\n",
       "      <th>z</th>\n",
       "      <th>is_plane</th>\n",
       "    </tr>\n",
       "  </thead>\n",
       "  <tbody>\n",
       "    <tr>\n",
       "      <th>0</th>\n",
       "      <td>3.648916</td>\n",
       "      <td>13.028890</td>\n",
       "      <td>3.302000</td>\n",
       "      <td>0</td>\n",
       "    </tr>\n",
       "    <tr>\n",
       "      <th>1</th>\n",
       "      <td>3.165603</td>\n",
       "      <td>21.072624</td>\n",
       "      <td>5.468216</td>\n",
       "      <td>0</td>\n",
       "    </tr>\n",
       "    <tr>\n",
       "      <th>2</th>\n",
       "      <td>-10.100225</td>\n",
       "      <td>11.874265</td>\n",
       "      <td>10.432081</td>\n",
       "      <td>0</td>\n",
       "    </tr>\n",
       "    <tr>\n",
       "      <th>3</th>\n",
       "      <td>0.587231</td>\n",
       "      <td>16.770767</td>\n",
       "      <td>1.232295</td>\n",
       "      <td>0</td>\n",
       "    </tr>\n",
       "    <tr>\n",
       "      <th>4</th>\n",
       "      <td>3.397451</td>\n",
       "      <td>23.161665</td>\n",
       "      <td>2.202228</td>\n",
       "      <td>0</td>\n",
       "    </tr>\n",
       "  </tbody>\n",
       "</table>\n",
       "</div>"
      ],
      "text/plain": [
       "           x          y          z  is_plane\n",
       "0   3.648916  13.028890   3.302000         0\n",
       "1   3.165603  21.072624   5.468216         0\n",
       "2 -10.100225  11.874265  10.432081         0\n",
       "3   0.587231  16.770767   1.232295         0\n",
       "4   3.397451  23.161665   2.202228         0"
      ]
     },
     "execution_count": 14,
     "metadata": {},
     "output_type": "execute_result"
    }
   ],
   "source": [
    "scene.points.head()"
   ]
  },
  {
   "cell_type": "code",
   "execution_count": 15,
   "metadata": {
    "nbpresent": {
     "id": "e6d4a995-a5d3-4c5b-aac9-6fc2fc76f4f5"
    }
   },
   "outputs": [
    {
     "data": {
      "text/html": [
       "\n",
       "        <iframe\n",
       "            width=\"800\"\n",
       "            height=\"500\"\n",
       "            src=\"without_floor.html\"\n",
       "            frameborder=\"0\"\n",
       "            allowfullscreen\n",
       "        ></iframe>\n",
       "        "
      ],
      "text/plain": [
       "<IPython.lib.display.IFrame at 0x7f8a85232e80>"
      ]
     },
     "execution_count": 15,
     "metadata": {},
     "output_type": "execute_result"
    }
   ],
   "source": [
    "scene.plot(output_name=\"without_floor\")"
   ]
  },
  {
   "cell_type": "markdown",
   "metadata": {
    "nbpresent": {
     "id": "b82068f6-83e1-4c18-97ca-809675c0820e"
    }
   },
   "source": [
    "## Clustering robots"
   ]
  },
  {
   "cell_type": "markdown",
   "metadata": {
    "collapsed": true,
    "nbpresent": {
     "id": "e40f1fcc-35df-4c35-903a-950901f5d9f6"
    }
   },
   "source": [
    "Let's separate the points that belong to each robot using a simple clustering technique called euclidean clustering. \n",
    "\n",
    "This is a good example of chaining `add_` operations storing the string indetifiers in variables.\n",
    "\n",
    "First, we will add a VoxelGrid to the PyntCloud using [add_structure](http://pyntcloud.readthedocs.io/en/latest/structures.html)."
   ]
  },
  {
   "cell_type": "code",
   "execution_count": 16,
   "metadata": {
    "collapsed": true,
    "nbpresent": {
     "id": "eb74cab9-d976-4a96-8a19-80283054ba5b"
    }
   },
   "outputs": [],
   "source": [
    "vg_id = scene.add_structure(\"voxelgrid\", sizes=[1,1,2])"
   ]
  },
  {
   "cell_type": "markdown",
   "metadata": {
    "nbpresent": {
     "id": "16755f7a-16a1-4c21-b3c0-e8cd3547bf54"
    }
   },
   "source": [
    "Using the voxelgrid, we can add a new scalar field that indicates to wich cluster each point belong."
   ]
  },
  {
   "cell_type": "code",
   "execution_count": 17,
   "metadata": {
    "collapsed": true,
    "nbpresent": {
     "id": "3d83deb6-baaf-4cab-89ac-45bfd65c121d"
    },
    "scrolled": false
   },
   "outputs": [],
   "source": [
    "clusters_id = scene.add_scalar_field(\"euclidean_clusters\", voxelgrid=vg_id)\n",
    "scene.split_on(clusters_id, save_path=\"tmp\")"
   ]
  },
  {
   "cell_type": "code",
   "execution_count": 18,
   "metadata": {},
   "outputs": [
    {
     "data": {
      "text/html": [
       "\n",
       "        <iframe\n",
       "            width=\"800\"\n",
       "            height=\"500\"\n",
       "            src=\"pyntcloud_plot.html\"\n",
       "            frameborder=\"0\"\n",
       "            allowfullscreen\n",
       "        ></iframe>\n",
       "        "
      ],
      "text/plain": [
       "<IPython.lib.display.IFrame at 0x7f8a85232d30>"
      ]
     },
     "execution_count": 18,
     "metadata": {},
     "output_type": "execute_result"
    }
   ],
   "source": [
    "scene.plot(use_as_color=clusters_id, cmap=\"viridis\")"
   ]
  },
  {
   "cell_type": "markdown",
   "metadata": {},
   "source": [
    "### Local files are generated in tmp, and sent to the network for labling manually\n",
    "### The resulting labels are fed back into pyntcloud the plot to be visualized"
   ]
  },
  {
   "cell_type": "code",
   "execution_count": 19,
   "metadata": {
    "collapsed": true
   },
   "outputs": [],
   "source": [
    "#To hardcode new values\n",
    "scene.points[is_floor] = scene.points[clusters_id]\n",
    "#for i in range(len(scene.points[is_floor])):\n",
    "    #if scene.points[is_floor][i] == 4.0:\n",
    "        #scene.points[is_floor][i] = 3.0"
   ]
  },
  {
   "cell_type": "code",
   "execution_count": 20,
   "metadata": {
    "collapsed": true,
    "scrolled": true
   },
   "outputs": [],
   "source": [
    "\n",
    "scene2.points[is_floor] = 5.0"
   ]
  },
  {
   "cell_type": "code",
   "execution_count": 21,
   "metadata": {
    "scrolled": false
   },
   "outputs": [
    {
     "name": "stdout",
     "output_type": "stream",
     "text": [
      "PyntCloud\n",
      "247453 points with 2 scalar fields\n",
      "0 faces in mesh\n",
      "0 kdtrees\n",
      "1 voxelgrids\n",
      "Centroid: -3.2498676776885986, 13.474801063537598, 3.5090720653533936\n",
      "Other attributes:\n",
      "\n"
     ]
    }
   ],
   "source": [
    "import pandas as pd\n",
    "print(scene)\n",
    "scene3 = [scene.points, scene2.points]\n",
    "result = pd.concat(scene3)\n",
    "scene.points = result"
   ]
  },
  {
   "cell_type": "markdown",
   "metadata": {
    "nbpresent": {
     "id": "ea75c0ff-e515-42f1-b104-b06ef8e1fe07"
    }
   },
   "source": [
    "## Visualization of labels of objects in a scene"
   ]
  },
  {
   "cell_type": "code",
   "execution_count": 22,
   "metadata": {
    "nbpresent": {
     "id": "3a90a8d7-59f5-4b65-a5d1-162be08645ac"
    },
    "scrolled": true
   },
   "outputs": [
    {
     "data": {
      "text/html": [
       "\n",
       "        <iframe\n",
       "            width=\"800\"\n",
       "            height=\"500\"\n",
       "            src=\"pyntcloud_plot.html\"\n",
       "            frameborder=\"0\"\n",
       "            allowfullscreen\n",
       "        ></iframe>\n",
       "        "
      ],
      "text/plain": [
       "<IPython.lib.display.IFrame at 0x7f8a85241828>"
      ]
     },
     "execution_count": 22,
     "metadata": {},
     "output_type": "execute_result"
    }
   ],
   "source": [
    "scene.plot(use_as_color=is_floor, cmap=\"viridis\")"
   ]
  }
 ],
 "metadata": {
  "anaconda-cloud": {},
  "kernelspec": {
   "display_name": "Python [default]",
   "language": "python",
   "name": "python3"
  },
  "language_info": {
   "codemirror_mode": {
    "name": "ipython",
    "version": 3
   },
   "file_extension": ".py",
   "mimetype": "text/x-python",
   "name": "python",
   "nbconvert_exporter": "python",
   "pygments_lexer": "ipython3",
   "version": "3.6.3"
  },
  "nbpresent": {
   "slides": {},
   "themes": {}
  }
 },
 "nbformat": 4,
 "nbformat_minor": 2
}
